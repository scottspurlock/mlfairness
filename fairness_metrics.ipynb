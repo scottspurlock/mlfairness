{
  "nbformat": 4,
  "nbformat_minor": 0,
  "metadata": {
    "colab": {
      "name": "fairness_metrics.ipynb",
      "provenance": [],
      "collapsed_sections": [],
      "authorship_tag": "ABX9TyOA1CEgKw4FOtCoBxqhhjdi",
      "include_colab_link": true
    },
    "kernelspec": {
      "name": "python3",
      "display_name": "Python 3"
    },
    "language_info": {
      "name": "python"
    }
  },
  "cells": [
    {
      "cell_type": "markdown",
      "metadata": {
        "id": "view-in-github",
        "colab_type": "text"
      },
      "source": [
        "<a href=\"https://colab.research.google.com/github/scottspurlock/mlfairness/blob/main/fairness_metrics.ipynb\" target=\"_parent\"><img src=\"https://colab.research.google.com/assets/colab-badge.svg\" alt=\"Open In Colab\"/></a>"
      ]
    },
    {
      "cell_type": "markdown",
      "metadata": {
        "id": "QOQ-PiB8abB1"
      },
      "source": [
        "# Fairness Metrics"
      ]
    },
    {
      "cell_type": "code",
      "metadata": {
        "id": "TukeutMlapvy"
      },
      "source": [
        "import numpy as np\n",
        "import matplotlib.pyplot as plt\n",
        "import seaborn as sns\n",
        "import pandas as pd\n",
        "\n",
        "from sklearn.metrics import confusion_matrix\n",
        "from sklearn.metrics import classification_report"
      ],
      "execution_count": 1,
      "outputs": []
    },
    {
      "cell_type": "code",
      "metadata": {
        "colab": {
          "base_uri": "https://localhost:8080/",
          "height": 359
        },
        "id": "xhVFKSbMaXNV",
        "outputId": "523a6ab4-d033-4967-81fd-f932a962b9d2"
      },
      "source": [
        "# Make up some ground truth and predicted labels (0 or 1)\n",
        "ytest = np.array([0, 0, 0, 0, 0, 1, 1, 1, 1, 1])\n",
        "ypred = np.array([0, 0, 0, 0, 1, 1, 1, 0, 0, 0])\n",
        "\n",
        "sensitive = np.array([0, 1, 0, 1, 0, 1, 0, 1, 0, 0])\n",
        "\n",
        "df = pd.DataFrame(list(zip(sensitive, ytest, ypred)), columns=['Sensitive', 'True Label', 'Pred Label'])\n",
        "df"
      ],
      "execution_count": 2,
      "outputs": [
        {
          "output_type": "execute_result",
          "data": {
            "text/html": [
              "<div>\n",
              "<style scoped>\n",
              "    .dataframe tbody tr th:only-of-type {\n",
              "        vertical-align: middle;\n",
              "    }\n",
              "\n",
              "    .dataframe tbody tr th {\n",
              "        vertical-align: top;\n",
              "    }\n",
              "\n",
              "    .dataframe thead th {\n",
              "        text-align: right;\n",
              "    }\n",
              "</style>\n",
              "<table border=\"1\" class=\"dataframe\">\n",
              "  <thead>\n",
              "    <tr style=\"text-align: right;\">\n",
              "      <th></th>\n",
              "      <th>Sensitive</th>\n",
              "      <th>True Label</th>\n",
              "      <th>Pred Label</th>\n",
              "    </tr>\n",
              "  </thead>\n",
              "  <tbody>\n",
              "    <tr>\n",
              "      <th>0</th>\n",
              "      <td>0</td>\n",
              "      <td>0</td>\n",
              "      <td>0</td>\n",
              "    </tr>\n",
              "    <tr>\n",
              "      <th>1</th>\n",
              "      <td>1</td>\n",
              "      <td>0</td>\n",
              "      <td>0</td>\n",
              "    </tr>\n",
              "    <tr>\n",
              "      <th>2</th>\n",
              "      <td>0</td>\n",
              "      <td>0</td>\n",
              "      <td>0</td>\n",
              "    </tr>\n",
              "    <tr>\n",
              "      <th>3</th>\n",
              "      <td>1</td>\n",
              "      <td>0</td>\n",
              "      <td>0</td>\n",
              "    </tr>\n",
              "    <tr>\n",
              "      <th>4</th>\n",
              "      <td>0</td>\n",
              "      <td>0</td>\n",
              "      <td>1</td>\n",
              "    </tr>\n",
              "    <tr>\n",
              "      <th>5</th>\n",
              "      <td>1</td>\n",
              "      <td>1</td>\n",
              "      <td>1</td>\n",
              "    </tr>\n",
              "    <tr>\n",
              "      <th>6</th>\n",
              "      <td>0</td>\n",
              "      <td>1</td>\n",
              "      <td>1</td>\n",
              "    </tr>\n",
              "    <tr>\n",
              "      <th>7</th>\n",
              "      <td>1</td>\n",
              "      <td>1</td>\n",
              "      <td>0</td>\n",
              "    </tr>\n",
              "    <tr>\n",
              "      <th>8</th>\n",
              "      <td>0</td>\n",
              "      <td>1</td>\n",
              "      <td>0</td>\n",
              "    </tr>\n",
              "    <tr>\n",
              "      <th>9</th>\n",
              "      <td>0</td>\n",
              "      <td>1</td>\n",
              "      <td>0</td>\n",
              "    </tr>\n",
              "  </tbody>\n",
              "</table>\n",
              "</div>"
            ],
            "text/plain": [
              "   Sensitive  True Label  Pred Label\n",
              "0          0           0           0\n",
              "1          1           0           0\n",
              "2          0           0           0\n",
              "3          1           0           0\n",
              "4          0           0           1\n",
              "5          1           1           1\n",
              "6          0           1           1\n",
              "7          1           1           0\n",
              "8          0           1           0\n",
              "9          0           1           0"
            ]
          },
          "metadata": {
            "tags": []
          },
          "execution_count": 2
        }
      ]
    },
    {
      "cell_type": "markdown",
      "metadata": {
        "id": "jV1LNNyb7IJj"
      },
      "source": [
        "# Basic Probability\n"
      ]
    },
    {
      "cell_type": "code",
      "metadata": {
        "colab": {
          "base_uri": "https://localhost:8080/"
        },
        "id": "QAuI24CN7NnV",
        "outputId": "9e4cd635-0077-4a05-b5d5-e2d5a56266b9"
      },
      "source": [
        "# P(s=0) : probability that sensitive attribute is 0\n",
        "num_total = len(sensitive)\n",
        "num_s0 = np.sum(sensitive == 0)\n",
        "p = num_s0 / num_total\n",
        "print('P(s=0) =', p)\n",
        "\n",
        "# P(ypred=1) : probability that predicted label is 1\n",
        "num_ypred1 = np.sum(ypred == 1)\n",
        "p = num_ypred1 / num_total\n",
        "print('P(ypred=1) =', p)\n",
        "\n",
        "# P(ypred=1 | s=0) : probability that, given sensitive attribute is 0, predicted label is 1\n",
        "num_s0 = np.sum(sensitive == 0)\n",
        "num_ypred1_and_s0 = np.sum((ypred == 1) & (sensitive == 0))\n",
        "p = num_ypred1_and_s0 / num_s0\n",
        "print('P(ypred=1 | s=0) =', p)\n",
        "\n",
        "# P(ypred=1 | s=0, y=1) : probability that, given sensitive attribute is 0 and true label is 1, predicted label is 1\n",
        "num_s0_y1 = np.sum((ytest == 1) & (sensitive == 0))\n",
        "num_s0_y1_ypred1 = np.sum((ytest == 1) & (sensitive == 0) & (ypred == 1))\n",
        "p = num_s0_y1_ypred1 / num_s0_y1\n",
        "print('P(ypred=1 | s=0, y=1) =', p)"
      ],
      "execution_count": 3,
      "outputs": [
        {
          "output_type": "stream",
          "text": [
            "P(s=0) = 0.6\n",
            "P(ypred=1) = 0.3\n",
            "P(ypred=1 | s=0) = 0.3333333333333333\n",
            "P(ypred=1 | s=0, y=1) = 0.3333333333333333\n"
          ],
          "name": "stdout"
        }
      ]
    },
    {
      "cell_type": "markdown",
      "metadata": {
        "id": "ZGsZnLIIjLPS"
      },
      "source": [
        "## Fairness\n",
        "### Demographic parity\n",
        "P(ypred = 1 | s = 1) - P(ypred = 1 | s = 0)"
      ]
    },
    {
      "cell_type": "code",
      "metadata": {
        "colab": {
          "base_uri": "https://localhost:8080/"
        },
        "id": "X-zHxo9Zbo3Q",
        "outputId": "184c8c88-d108-4964-9dc9-b0eac819e4a2"
      },
      "source": [
        "mask_s0 = sensitive == 0\n",
        "mask_s1 = sensitive == 1\n",
        "mask_ypred1 = ypred == 1\n",
        "count_0 = np.sum(mask_s0 & mask_ypred1)\n",
        "count_1 = np.sum(mask_s1 & mask_ypred1)\n",
        "\n",
        "prob0 = count_0 / np.sum(mask_s0)\n",
        "prob1 = count_1 / np.sum(mask_s1)\n",
        "demo_par_diff = prob1 - prob0\n",
        "\n",
        "print('P(ypred=1 | s=0): {:.4f}'.format(prob0))\n",
        "print('P(ypred=1 | s=1): {:.4f}'.format(prob1))\n",
        "print('Demographic Parity Score: {:.4f}'.format(demo_par_diff))\n"
      ],
      "execution_count": 4,
      "outputs": [
        {
          "output_type": "stream",
          "text": [
            "P(ypred=1 | s=0): 0.3333\n",
            "P(ypred=1 | s=1): 0.2500\n",
            "Demographic Parity Score: -0.0833\n"
          ],
          "name": "stdout"
        }
      ]
    },
    {
      "cell_type": "markdown",
      "metadata": {
        "id": "qLqwBR28n5zp"
      },
      "source": [
        "### Equality of opportunity\n",
        "- high income: P(ypred=1 | y=1, s=1) - P(ypred=1 | y=1, s=0)\n",
        "- low income: P(ypred=1 | y=0, s=1) - P(ypred=1 | y=0, s=0)"
      ]
    },
    {
      "cell_type": "code",
      "metadata": {
        "colab": {
          "base_uri": "https://localhost:8080/"
        },
        "id": "NVsPu7IdnQsj",
        "outputId": "61586155-6dcc-454b-e147-a1bff9c2de69"
      },
      "source": [
        "mask_s0 = sensitive == 0\n",
        "mask_s1 = sensitive == 1\n",
        "mask_ypred1 = ypred == 1\n",
        "mask_y0 = ytest == 0\n",
        "mask_y1 = ytest == 1\n",
        "\n",
        "# Low income version\n",
        "count0 = np.sum(mask_s0 & mask_ypred1 & mask_y0)\n",
        "count1 = np.sum(mask_s1 & mask_ypred1 & mask_y0)\n",
        "prob0 = count0 / np.sum(mask_s0 & mask_y0)\n",
        "prob1 = count1 / np.sum(mask_s1 & mask_y0)\n",
        "\n",
        "print('Equality of opportunity score (low income):', prob1 - prob0)\n",
        "\n",
        "# High income version\n",
        "count0 = np.sum(mask_s0 & mask_ypred1 & mask_y1)\n",
        "count1 = np.sum(mask_s1 & mask_ypred1 & mask_y1)\n",
        "prob0 = count0 / np.sum(mask_s0 & mask_y1)\n",
        "prob1 = count1 / np.sum(mask_s1 & mask_y1)\n",
        "\n",
        "print('Equality of opportunity score (high income):', prob1 - prob0)\n"
      ],
      "execution_count": 5,
      "outputs": [
        {
          "output_type": "stream",
          "text": [
            "Equality of opportunity score (low income): -0.3333333333333333\n",
            "Equality of opportunity score (high income): 0.16666666666666669\n"
          ],
          "name": "stdout"
        }
      ]
    },
    {
      "cell_type": "markdown",
      "metadata": {
        "id": "nrg6CRec7OCp"
      },
      "source": [
        "# Classification"
      ]
    },
    {
      "cell_type": "code",
      "metadata": {
        "colab": {
          "base_uri": "https://localhost:8080/",
          "height": 466
        },
        "id": "2oRT7Nm3c9Uv",
        "outputId": "9f207fdb-c9c1-415d-e3e9-bb7b16349053"
      },
      "source": [
        "print(classification_report(ytest, ypred))\n",
        "\n",
        "cm = confusion_matrix(ytest, ypred)\n",
        "\n",
        "\n",
        "plt.figure(figsize=(5, 5))\n",
        "sns.heatmap(cm, square=True, annot=True, fmt='d', cbar=True, cmap=\"PuBu\")\n",
        "\n",
        "plt.xlabel('Predicted Label');\n",
        "plt.ylabel('True Label')\n",
        "plt.title('Classification Confusion Matrix')\n",
        "plt.show()\n"
      ],
      "execution_count": 6,
      "outputs": [
        {
          "output_type": "stream",
          "text": [
            "              precision    recall  f1-score   support\n",
            "\n",
            "           0       0.57      0.80      0.67         5\n",
            "           1       0.67      0.40      0.50         5\n",
            "\n",
            "    accuracy                           0.60        10\n",
            "   macro avg       0.62      0.60      0.58        10\n",
            "weighted avg       0.62      0.60      0.58        10\n",
            "\n"
          ],
          "name": "stdout"
        },
        {
          "output_type": "display_data",
          "data": {
            "image/png": "[encoded data removed]",
            "text/plain": [
              "<Figure size 360x360 with 2 Axes>"
            ]
          },
          "metadata": {
            "tags": [],
            "needs_background": "light"
          }
        }
      ]
    },
    {
      "cell_type": "markdown",
      "metadata": {
        "id": "kdrqseZqjE7-"
      },
      "source": [
        "## Basic classification metrics\n",
        "https://en.wikipedia.org/wiki/Precision_and_recall"
      ]
    },
    {
      "cell_type": "code",
      "metadata": {
        "colab": {
          "base_uri": "https://localhost:8080/"
        },
        "id": "c4PnCys-adoV",
        "outputId": "33cdf01e-9a12-4821-86e5-24e7ab034ee0"
      },
      "source": [
        "# Accuracy\n",
        "correct_count = np.sum(ytest == ypred)\n",
        "acc = correct_count / ytest.shape[0]\n",
        "\n",
        "# True positive\n",
        "tp = np.sum((ytest == ypred) & (ytest == 1))\n",
        "tpr = tp / ytest.shape[0]\n",
        "\n",
        "# True negative\n",
        "tn = np.sum((ytest == ypred) & (ytest == 0))\n",
        "tnr = tn / ytest.shape[0]\n",
        "\n",
        "# False positive\n",
        "fp = np.sum((ytest != ypred) & (ypred == 1))\n",
        "fpr = fp / ytest.shape[0]\n",
        "\n",
        "# False negative\n",
        "fn = np.sum((ytest != ypred) & (ypred == 0))\n",
        "fnr = fn / ytest.shape[0]\n",
        "\n",
        "# Class 0 recall - how many of the true class 0 examples were predicted correctly?\n",
        "n0_true = np.sum(ytest == 0)\n",
        "recall0 = tn / n0_true\n",
        "\n",
        "# Class 1 recall - how many of the true class 1 examples were predicted correctly?\n",
        "n1_true = np.sum(ytest == 1)\n",
        "recall1 = tp / n1_true\n",
        "\n",
        "# Class 0 precision - how many of the predicted class 0 examples were actually class 0?\n",
        "n0_pred = np.sum(ypred == 0)\n",
        "prec0 = tn / n0_pred\n",
        "\n",
        "# Class 1 precision - how many of the predicted class 1 examples were actually class 1?\n",
        "n1_pred = np.sum(ypred == 1)\n",
        "prec1 = tp / n1_pred\n",
        "\n",
        "# Class 0 f1 score\n",
        "f10 = 2*tn / (2*tn + fp + fn)\n",
        "\n",
        "# Class 1 f1 score\n",
        "f11 = 2*tp / (2*tp + fp + fn)\n",
        "\n",
        "print('Accuracy: {:.4f}  TPR: {:.4f}  TNR: {:.4f}  FPR: {:.4f}  FNR: {:.4f}'.format(acc, tpr, tnr, fpr, fnr))\n",
        "print('Class 0 recall: {:.4f}  Class 1 recall: {:.4f}  Class 0 precision: {:.4f}  Class 1 precision: {:.4f}'.format(recall0, recall1, prec0, prec1))\n",
        "print('Class 0 f1 score: {:.4f}  Class 1 f1 score: {:.4f}'.format(f10, f11))"
      ],
      "execution_count": 7,
      "outputs": [
        {
          "output_type": "stream",
          "text": [
            "Accuracy: 0.6000  TPR: 0.2000  TNR: 0.4000  FPR: 0.1000  FNR: 0.3000\n",
            "Class 0 recall: 0.8000  Class 1 recall: 0.4000  Class 0 precision: 0.5714  Class 1 precision: 0.6667\n",
            "Class 0 f1 score: 0.6667  Class 1 f1 score: 0.5000\n"
          ],
          "name": "stdout"
        }
      ]
    },
    {
      "cell_type": "code",
      "metadata": {
        "id": "6t9TgBbG6bFM"
      },
      "source": [
        ""
      ],
      "execution_count": 7,
      "outputs": []
    }
  ]
}